{
  "nbformat": 4,
  "nbformat_minor": 0,
  "metadata": {
    "colab": {
      "name": "date8january.ipynb",
      "provenance": [],
      "collapsed_sections": [],
      "authorship_tag": "ABX9TyMuZBj4mcB2JDCHCHXBr4DX",
      "include_colab_link": true
    },
    "kernelspec": {
      "name": "python3",
      "display_name": "Python 3"
    },
    "language_info": {
      "name": "python"
    }
  },
  "cells": [
    {
      "cell_type": "markdown",
      "metadata": {
        "id": "view-in-github",
        "colab_type": "text"
      },
      "source": [
        "<a href=\"https://colab.research.google.com/github/BiplobKarmakar/EMK/blob/main/date8january.ipynb\" target=\"_parent\"><img src=\"https://colab.research.google.com/assets/colab-badge.svg\" alt=\"Open In Colab\"/></a>"
      ]
    },
    {
      "cell_type": "code",
      "execution_count": null,
      "metadata": {
        "id": "p6b87tJevdpx",
        "colab": {
          "base_uri": "https://localhost:8080/"
        },
        "outputId": "e6c2b94f-8988-4586-a5d4-4ba0fd10e09e"
      },
      "outputs": [
        {
          "output_type": "stream",
          "name": "stdout",
          "text": [
            "Python\n"
          ]
        }
      ],
      "source": [
        "print(\"Python\")"
      ]
    },
    {
      "cell_type": "markdown",
      "source": [
        "Given an integer n, return true if it is a power of two. Otherwise, return false.\n",
        "\n",
        "An integer n is a power of two, if there exists an integer x such that n == 2^x.\n",
        "\n",
        " \n",
        "\n",
        "Example 1:\n",
        "\n",
        "Input: n = 1\n",
        "Output: true\n",
        "Explanation: 2^0 = 1\n",
        "Example 2:\n",
        "\n",
        "Input: n = 16\n",
        "Output: true\n",
        "Explanation: 2^4 = 16\n",
        "Example 3:\n",
        "\n",
        "Input: n = 3\n",
        "Output: false\n",
        " \n",
        "\n",
        "Constraints:\n",
        "\n",
        "-231 <= n <= 231 - 1\n",
        " \n",
        "\n",
        "Follow up: Could you solve it without loops/recursion?\n"
      ],
      "metadata": {
        "id": "29I2JALoRJMu"
      }
    },
    {
      "cell_type": "markdown",
      "source": [
        ""
      ],
      "metadata": {
        "id": "c02uJgFDjeng"
      }
    },
    {
      "cell_type": "code",
      "source": [
        "import math\n",
        "\n",
        "def isPowerOfTwo(n):\n",
        "\n",
        "    if n <= 0:\n",
        "        return False\n",
        "\n",
        "   # x = math.log10(n)/math.log10(2)\n",
        "    x=math.log2(n)\n",
        "    print(x)\n",
        "    return n == 2**int(x)\n"
      ],
      "metadata": {
        "id": "Me1_06K2jk8s"
      },
      "execution_count": 4,
      "outputs": []
    },
    {
      "cell_type": "code",
      "source": [
        "example=isPowerOfTwo(15)\n",
        "print(example)"
      ],
      "metadata": {
        "id": "GrxE6H4zjbwh",
        "colab": {
          "base_uri": "https://localhost:8080/"
        },
        "outputId": "b0b4eae0-083b-4b1c-ce86-762b6fcbf124"
      },
      "execution_count": 10,
      "outputs": [
        {
          "output_type": "stream",
          "name": "stdout",
          "text": [
            "3.9068905956085187\n",
            "False\n"
          ]
        }
      ]
    },
    {
      "cell_type": "markdown",
      "source": [
        "Given an integer array nums, return true if any value appears at least twice in the array, and return false if every element is distinct.\n",
        "\n",
        " \n",
        "\n",
        "Example 1:\n",
        "\n",
        "Input: nums = [1,2,3,1]\n",
        "Output: true\n",
        "Example 2:\n",
        "\n",
        "Input: nums = [1,2,3,4]\n",
        "Output: false\n",
        "Example 3:\n",
        "\n",
        "Input: nums = [1,1,1,3,3,4,3,2,4,2]\n",
        "Output: true\n",
        " \n",
        "\n",
        "Constraints:\n",
        "\n",
        "1 <= nums.length <= 105\n",
        "-109 <= nums[i] <= 109\n"
      ],
      "metadata": {
        "id": "F5-n5Ldfjcpt"
      }
    },
    {
      "cell_type": "code",
      "source": [
        "def containDuplicates(nums):\n",
        "  nums.sort()\n",
        "  print(nums)\n",
        "  prev = None\n",
        "  #print(prev)\n",
        "  for num in nums:\n",
        "\n",
        "    #print(\"num \", num)\n",
        "    if num == prev:\n",
        "     # print(\"prev \", prev)\n",
        "      return True\n",
        "    prev = num\n",
        "    print(\"prev \", prev)\n",
        "  return False         \n",
        "        "
      ],
      "metadata": {
        "id": "7r2t2WDuYSIz"
      },
      "execution_count": 50,
      "outputs": []
    },
    {
      "cell_type": "code",
      "source": [
        "example=containDuplicates([1,2,3,4])\n",
        "print(example)"
      ],
      "metadata": {
        "colab": {
          "base_uri": "https://localhost:8080/"
        },
        "id": "2lA2UjD4YTFJ",
        "outputId": "7a52e0fb-866b-47cb-9035-f2205b1f810a"
      },
      "execution_count": 52,
      "outputs": [
        {
          "output_type": "stream",
          "name": "stdout",
          "text": [
            "[1, 2, 3, 4]\n",
            "prev  1\n",
            "prev  2\n",
            "prev  3\n",
            "prev  4\n",
            "False\n"
          ]
        }
      ]
    },
    {
      "cell_type": "markdown",
      "source": [
        "Given an array of integers nums and an integer target, return indices of the two numbers such that they add up to target.\n",
        "\n",
        "You may assume that each input would have exactly one solution, and you may not use the same element twice.\n",
        "\n",
        "You can return the answer in any order.\n",
        "\n",
        " \n",
        "\n",
        "Example 1:\n",
        "\n",
        "Input: nums = [2,7,11,15], target = 9\n",
        "Output: [0,1]\n",
        "Explanation: Because nums[0] + nums[1] == 9, we return [0, 1].\n",
        "Example 2:\n",
        "\n",
        "Input: nums = [3,2,4], target = 6\n",
        "Output: [1,2]\n",
        "Example 3:\n",
        "\n",
        "Input: nums = [3,3], target = 6\n",
        "Output: [0,1]\n",
        " \n",
        "\n",
        "Constraints:\n",
        "\n",
        "2 <= nums.length <= 104\n",
        "-109 <= nums[i] <= 109\n",
        "-109 <= target <= 109\n",
        "Only one valid answer exists.\n",
        " \n",
        "\n",
        "Follow-up: Can you come up with an algorithm that is less than O(n2) time complexity?\n"
      ],
      "metadata": {
        "id": "8MwnEejIkc0x"
      }
    },
    {
      "cell_type": "code",
      "source": [
        "  nums=[2,11,15,7]\n",
        "  target=26\n",
        "\n",
        "#def Twosum(nums,target):\n",
        "  for i in range(len(nums)):\n",
        "    firstelement=nums[i]\n",
        "    seceondelement=target-firstelement\n",
        "  if seceondelement in nums:\n",
        "    print(nums.index(firstelement),nums.index(seceondelement))\n",
        "#break\n",
        "#print(nums.index(2));"
      ],
      "metadata": {
        "id": "GFa5uY6Ikhm_"
      },
      "execution_count": 86,
      "outputs": []
    },
    {
      "cell_type": "code",
      "source": [
        "example=Twosum([2,11,15,7],26)"
      ],
      "metadata": {
        "id": "2NMmhfHzkiAg"
      },
      "execution_count": 81,
      "outputs": []
    }
  ]
}